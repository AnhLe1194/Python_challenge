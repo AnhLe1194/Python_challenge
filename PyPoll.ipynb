{
 "cells": [
  {
   "cell_type": "code",
   "execution_count": 1,
   "metadata": {},
   "outputs": [],
   "source": [
    "import os\n",
    "import csv\n",
    "csvpath = os.path.join(\"Resources\", \"Homework_03-Python_Instructions_PyPoll_Resources_election_data.csv\")"
   ]
  },
  {
   "cell_type": "code",
   "execution_count": 2,
   "metadata": {},
   "outputs": [
    {
     "name": "stdout",
     "output_type": "stream",
     "text": [
      "['Khan', 'Correy', 'Li', \"O'Tooley\"]\n",
      "3521001\n",
      "[63.0, 20.0, 14.0, 3.0]\n",
      "[2218231, 704200, 492940, 105630]\n",
      "Khan\n"
     ]
    }
   ],
   "source": [
    "total_votes = 0\n",
    "candidates_unique = []\n",
    "candidate_vote_count = []\n",
    "percent_count = []\n",
    "\n",
    "with open(csvpath) as csvfile:\n",
    "    csvreader = csv.reader(csvfile, delimiter = \",\")\n",
    "    csv_header = next(csvreader)\n",
    "    \n",
    "    for row in csvreader:\n",
    "        candidate = row[2]\n",
    "        total_votes = total_votes + 1\n",
    "        \n",
    "        if candidate in candidates_unique:\n",
    "            index = candidates_unique.index(candidate)\n",
    "            candidate_vote_count[index] = candidate_vote_count[index] + 1\n",
    "    \n",
    "        else:\n",
    "            candidates_unique.append(candidate)\n",
    "            candidate_vote_count.append(1)\n",
    "\n",
    "for count in candidate_vote_count:\n",
    "    percent_count.append(round((count/total_votes)*100, 3))\n",
    "    max_count = max(candidate_vote_count)\n",
    "\n",
    "\n",
    "winner = candidates_unique[candidate_vote_count.index(max(candidate_vote_count))]\n",
    "\n",
    "print(candidates_unique)\n",
    "print(total_votes)\n",
    "print(percent_count)\n",
    "print(candidate_vote_count)\n",
    "print(winner)"
   ]
  },
  {
   "cell_type": "code",
   "execution_count": 3,
   "metadata": {},
   "outputs": [
    {
     "name": "stdout",
     "output_type": "stream",
     "text": [
      "Election Results\n",
      "---------------------\n",
      "Total Votes: 3521001\n",
      "---------------------\n",
      "Khan : 63.0% (2218231)\n",
      "Correy : 20.0% (704200)\n",
      "Li : 14.0% (492940)\n",
      "O'Tooley : 3.0% (105630)\n",
      "---------------------\n",
      " Winner: Khan\n",
      "---------------------\n"
     ]
    }
   ],
   "source": [
    "#To terminal\n",
    "print(f\"Election Results\")\n",
    "print(f\"---------------------\")\n",
    "print(f\"Total Votes: {total_votes}\")\n",
    "print(f\"---------------------\")\n",
    "for i in range(len(candidates_unique)):\n",
    "    print(f\"{candidates_unique[i]} : {percent_count[i]}% ({candidate_vote_count[i]})\")\n",
    "print(f\"---------------------\")\n",
    "print(f\" Winner: {winner}\")\n",
    "print(f\"---------------------\")\n",
    "\n",
    "\n",
    "#output txt file\n",
    "output_file = os.path.join(\"Analysis\",\"PyPoll__results.txt\")\n",
    "with open(output_file, \"w\", newline=\"\") as resultfile:\n",
    "    resultfile.write(f\"Election Results\")\n",
    "    resultfile.write(f\"---------------------\")\n",
    "    resultfile.write(f\"Total Votes: {total_votes}\")\n",
    "    resultfile.write(f\"---------------------\")\n",
    "    for i in range(len(candidates_unique)):\n",
    "        resultfile.write(f\"{candidates_unique[i]} : {percent_count[i]}% {candidate_vote_count[i]}\")\n",
    "    resultfile.write(f\"---------------------\")\n",
    "    resultfile.write(f\" Winner: {winner}\")\n",
    "    resultfile.write(f\"---------------------\")\n",
    "\n",
    "   \n",
    "  \n"
   ]
  },
  {
   "cell_type": "code",
   "execution_count": null,
   "metadata": {},
   "outputs": [],
   "source": []
  },
  {
   "cell_type": "code",
   "execution_count": null,
   "metadata": {},
   "outputs": [],
   "source": []
  }
 ],
 "metadata": {
  "kernelspec": {
   "display_name": "Python 3",
   "language": "python",
   "name": "python3"
  },
  "language_info": {
   "codemirror_mode": {
    "name": "ipython",
    "version": 3
   },
   "file_extension": ".py",
   "mimetype": "text/x-python",
   "name": "python",
   "nbconvert_exporter": "python",
   "pygments_lexer": "ipython3",
   "version": "3.7.6"
  }
 },
 "nbformat": 4,
 "nbformat_minor": 4
}
