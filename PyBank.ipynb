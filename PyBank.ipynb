{
 "cells": [
  {
   "cell_type": "code",
   "execution_count": 30,
   "metadata": {},
   "outputs": [],
   "source": [
    "import os\n",
    "import csv "
   ]
  },
  {
   "cell_type": "code",
   "execution_count": 31,
   "metadata": {},
   "outputs": [],
   "source": [
    "csvpath = os.path.join(\"Resources\", \"Homework_03-Python_Instructions_PyBank_Resources_budget_data.csv\")"
   ]
  },
  {
   "cell_type": "code",
   "execution_count": 32,
   "metadata": {},
   "outputs": [],
   "source": [
    "total_months = 0\n",
    "total_revenue = 0\n",
    "months = []\n",
    "total_change = []\n",
    "\n",
    "with open(csvpath) as csvfile:\n",
    "    csvreader = csv.reader(csvfile, delimiter = \",\")\n",
    "    \n",
    "    csv_header = next(csvreader)\n",
    "    for row in csvreader:\n",
    "        #print(row)\n",
    "        total_months = total_months + 1\n",
    "        total_revenue = total_revenue + int(row[1])\n",
    "        if total_months == 1:\n",
    "            prev_rev = int(row[1])\n",
    "        \n",
    "        if total_months > 1:\n",
    "            monthly_change = int(row[1]) - prev_rev\n",
    "            total_change.append(monthly_change)\n",
    "            months.append(row[0])\n",
    "            prev_rev = int(row[1])\n",
    "            monthly_change = 0"
   ]
  },
  {
   "cell_type": "code",
   "execution_count": 33,
   "metadata": {},
   "outputs": [],
   "source": [
    "#print(total_months)\n",
    "#print(total_revenue)\n",
    "#print(total_change)"
   ]
  },
  {
   "cell_type": "code",
   "execution_count": 34,
   "metadata": {},
   "outputs": [],
   "source": [
    "average_change = round(sum(total_change)/len(months), 2)\n",
    "#print(average_change)\n",
    "\n",
    "for i in range(len(total_change)-1):\n",
    "    max_profit = max(total_change)\n",
    "    max_loss = min(total_change)\n",
    "#print(max_profit)\n",
    "#print(max_loss)\n",
    "\n",
    "date_max_profit = months[total_change.index(max(total_change))]\n",
    "#print(date_max_profit)\n",
    "\n",
    "date_max_loss = months[total_change.index(min(total_change))]\n",
    "#print(date_max_loss)"
   ]
  },
  {
   "cell_type": "code",
   "execution_count": 36,
   "metadata": {},
   "outputs": [
    {
     "name": "stdout",
     "output_type": "stream",
     "text": [
      "Financial Analysis\n",
      "--------------------------\n",
      "Your profit is: $ 38382578\n",
      "Total Months: 86\n",
      "Average  Change: $-2315.12\n",
      "Greatest Increase in Profits: Feb-2012 ($1926159)\n",
      "Greatest Decrease in Profits: Sep-2013 ($-2196167)\n"
     ]
    }
   ],
   "source": [
    "print(f\"Financial Analysis\")\n",
    "print(f\"--------------------------\")\n",
    "print(f\"Your profit is: $ {total_revenue}\")\n",
    "print(f\"Total Months: {total_months}\")\n",
    "print(f\"Average  Change: ${average_change}\")\n",
    "print(f\"Greatest Increase in Profits: {date_max_profit} (${max_profit})\")\n",
    "print(f\"Greatest Decrease in Profits: {date_max_loss} (${max_loss})\")\n",
    "\n",
    "#To txt file:\n",
    "output_file = os.path.join(\"Analysis\", \"PyBank_result.txt\")\n",
    "with open(output_file, \"w\", newline=\"\") as resultfile:\n",
    "    resultfile.write(f\"Financial Analysis\")\n",
    "    resultfile.write(f\"--------------------------\")\n",
    "    resultfile.write(f\"Your profit is: $ {total_revenue}\")\n",
    "    resultfile.write(f\"Total Months: {total_months}\")\n",
    "    resultfile.write(f\"Average  Change: ${average_change}\")\n",
    "    resultfile.write(f\"Greatest Increase in Profits: {date_max_profit} (${max_profit})\")\n",
    "    resultfile.write(f\"Greatest Decrease in Profits: {date_max_loss} (${max_loss})\")"
   ]
  },
  {
   "cell_type": "code",
   "execution_count": null,
   "metadata": {},
   "outputs": [],
   "source": []
  },
  {
   "cell_type": "code",
   "execution_count": null,
   "metadata": {},
   "outputs": [],
   "source": []
  }
 ],
 "metadata": {
  "kernelspec": {
   "display_name": "Python 3",
   "language": "python",
   "name": "python3"
  },
  "language_info": {
   "codemirror_mode": {
    "name": "ipython",
    "version": 3
   },
   "file_extension": ".py",
   "mimetype": "text/x-python",
   "name": "python",
   "nbconvert_exporter": "python",
   "pygments_lexer": "ipython3",
   "version": "3.7.6"
  }
 },
 "nbformat": 4,
 "nbformat_minor": 4
}
